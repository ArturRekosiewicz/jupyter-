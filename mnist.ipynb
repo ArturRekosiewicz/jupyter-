{
 "cells": [
  {
   "cell_type": "code",
   "execution_count": 6,
   "id": "548f636a-db91-46fb-a684-88f18c5db00d",
   "metadata": {},
   "outputs": [],
   "source": [
    "import torch\n",
    "import torchvision"
   ]
  },
  {
   "cell_type": "code",
   "execution_count": 8,
   "id": "e6d74d2c-be90-4b26-b6ef-d23f24f7ebe7",
   "metadata": {},
   "outputs": [],
   "source": [
    "from torchvision.datasets import MNIST"
   ]
  },
  {
   "cell_type": "code",
   "execution_count": 12,
   "id": "79a0ca50-2153-4b0a-9be8-5d6753e38569",
   "metadata": {},
   "outputs": [],
   "source": [
    "dataset_train = MNIST(root='datasets/', download =True, train= True)\n",
    "dataset_test = MNIST(root='datasets/', download =False, train= False)"
   ]
  },
  {
   "cell_type": "code",
   "execution_count": 13,
   "id": "705ba253-0221-403f-be6c-c2ab65525b36",
   "metadata": {},
   "outputs": [
    {
     "data": {
      "text/plain": [
       "(60000, 10000)"
      ]
     },
     "execution_count": 13,
     "metadata": {},
     "output_type": "execute_result"
    }
   ],
   "source": [
    "len(dataset_train), len(dataset_test)"
   ]
  },
  {
   "cell_type": "code",
   "execution_count": 14,
   "id": "77405b2c-6677-4c5b-a7ab-c8abf0e6ba4a",
   "metadata": {},
   "outputs": [
    {
     "data": {
      "text/plain": [
       "torch.Size([60000, 28, 28])"
      ]
     },
     "execution_count": 14,
     "metadata": {},
     "output_type": "execute_result"
    }
   ],
   "source": [
    "dataset_train.data.shape"
   ]
  },
  {
   "cell_type": "code",
   "execution_count": 15,
   "id": "53d3a167-9da2-465a-91e2-9c0cd4fd6001",
   "metadata": {},
   "outputs": [
    {
     "data": {
      "text/plain": [
       "(<PIL.Image.Image image mode=L size=28x28>, 5)"
      ]
     },
     "execution_count": 15,
     "metadata": {},
     "output_type": "execute_result"
    }
   ],
   "source": [
    "dataset_train[0]"
   ]
  },
  {
   "cell_type": "code",
   "execution_count": 17,
   "id": "c879dece-75ba-4106-8682-aeac5c05c3d2",
   "metadata": {},
   "outputs": [
    {
     "data": {
      "text/plain": [
       "tensor([[  0,   0,   0,   0,   0,   0,   0,   0,   0,   0,   0,   0,   0,   0,\n",
       "           0,   0,   0,   0,   0,   0,   0,   0,   0,   0,   0,   0,   0,   0],\n",
       "        [  0,   0,   0,   0,   0,   0,   0,   0,   0,   0,   0,   0,   0,   0,\n",
       "           0,   0,   0,   0,   0,   0,   0,   0,   0,   0,   0,   0,   0,   0],\n",
       "        [  0,   0,   0,   0,   0,   0,   0,   0,   0,   0,   0,   0,   0,   0,\n",
       "           0,   0,   0,   0,   0,   0,   0,   0,   0,   0,   0,   0,   0,   0],\n",
       "        [  0,   0,   0,   0,   0,   0,   0,   0,   0,   0,   0,   0,   0,   0,\n",
       "           0,   0,   0,   0,   0,   0,   0,   0,   0,   0,   0,   0,   0,   0],\n",
       "        [  0,   0,   0,   0,   0,   0,   0,   0,   0,   0,   0,   0,   0,   0,\n",
       "           0,   0,   0,   0,   0,   0,   0,   0,   0,   0,   0,   0,   0,   0],\n",
       "        [  0,   0,   0,   0,   0,   0,   0,   0,   0,   0,   0,   0,   3,  18,\n",
       "          18,  18, 126, 136, 175,  26, 166, 255, 247, 127,   0,   0,   0,   0],\n",
       "        [  0,   0,   0,   0,   0,   0,   0,   0,  30,  36,  94, 154, 170, 253,\n",
       "         253, 253, 253, 253, 225, 172, 253, 242, 195,  64,   0,   0,   0,   0],\n",
       "        [  0,   0,   0,   0,   0,   0,   0,  49, 238, 253, 253, 253, 253, 253,\n",
       "         253, 253, 253, 251,  93,  82,  82,  56,  39,   0,   0,   0,   0,   0],\n",
       "        [  0,   0,   0,   0,   0,   0,   0,  18, 219, 253, 253, 253, 253, 253,\n",
       "         198, 182, 247, 241,   0,   0,   0,   0,   0,   0,   0,   0,   0,   0],\n",
       "        [  0,   0,   0,   0,   0,   0,   0,   0,  80, 156, 107, 253, 253, 205,\n",
       "          11,   0,  43, 154,   0,   0,   0,   0,   0,   0,   0,   0,   0,   0],\n",
       "        [  0,   0,   0,   0,   0,   0,   0,   0,   0,  14,   1, 154, 253,  90,\n",
       "           0,   0,   0,   0,   0,   0,   0,   0,   0,   0,   0,   0,   0,   0],\n",
       "        [  0,   0,   0,   0,   0,   0,   0,   0,   0,   0,   0, 139, 253, 190,\n",
       "           2,   0,   0,   0,   0,   0,   0,   0,   0,   0,   0,   0,   0,   0],\n",
       "        [  0,   0,   0,   0,   0,   0,   0,   0,   0,   0,   0,  11, 190, 253,\n",
       "          70,   0,   0,   0,   0,   0,   0,   0,   0,   0,   0,   0,   0,   0],\n",
       "        [  0,   0,   0,   0,   0,   0,   0,   0,   0,   0,   0,   0,  35, 241,\n",
       "         225, 160, 108,   1,   0,   0,   0,   0,   0,   0,   0,   0,   0,   0],\n",
       "        [  0,   0,   0,   0,   0,   0,   0,   0,   0,   0,   0,   0,   0,  81,\n",
       "         240, 253, 253, 119,  25,   0,   0,   0,   0,   0,   0,   0,   0,   0],\n",
       "        [  0,   0,   0,   0,   0,   0,   0,   0,   0,   0,   0,   0,   0,   0,\n",
       "          45, 186, 253, 253, 150,  27,   0,   0,   0,   0,   0,   0,   0,   0],\n",
       "        [  0,   0,   0,   0,   0,   0,   0,   0,   0,   0,   0,   0,   0,   0,\n",
       "           0,  16,  93, 252, 253, 187,   0,   0,   0,   0,   0,   0,   0,   0],\n",
       "        [  0,   0,   0,   0,   0,   0,   0,   0,   0,   0,   0,   0,   0,   0,\n",
       "           0,   0,   0, 249, 253, 249,  64,   0,   0,   0,   0,   0,   0,   0],\n",
       "        [  0,   0,   0,   0,   0,   0,   0,   0,   0,   0,   0,   0,   0,   0,\n",
       "          46, 130, 183, 253, 253, 207,   2,   0,   0,   0,   0,   0,   0,   0],\n",
       "        [  0,   0,   0,   0,   0,   0,   0,   0,   0,   0,   0,   0,  39, 148,\n",
       "         229, 253, 253, 253, 250, 182,   0,   0,   0,   0,   0,   0,   0,   0],\n",
       "        [  0,   0,   0,   0,   0,   0,   0,   0,   0,   0,  24, 114, 221, 253,\n",
       "         253, 253, 253, 201,  78,   0,   0,   0,   0,   0,   0,   0,   0,   0],\n",
       "        [  0,   0,   0,   0,   0,   0,   0,   0,  23,  66, 213, 253, 253, 253,\n",
       "         253, 198,  81,   2,   0,   0,   0,   0,   0,   0,   0,   0,   0,   0],\n",
       "        [  0,   0,   0,   0,   0,   0,  18, 171, 219, 253, 253, 253, 253, 195,\n",
       "          80,   9,   0,   0,   0,   0,   0,   0,   0,   0,   0,   0,   0,   0],\n",
       "        [  0,   0,   0,   0,  55, 172, 226, 253, 253, 253, 253, 244, 133,  11,\n",
       "           0,   0,   0,   0,   0,   0,   0,   0,   0,   0,   0,   0,   0,   0],\n",
       "        [  0,   0,   0,   0, 136, 253, 253, 253, 212, 135, 132,  16,   0,   0,\n",
       "           0,   0,   0,   0,   0,   0,   0,   0,   0,   0,   0,   0,   0,   0],\n",
       "        [  0,   0,   0,   0,   0,   0,   0,   0,   0,   0,   0,   0,   0,   0,\n",
       "           0,   0,   0,   0,   0,   0,   0,   0,   0,   0,   0,   0,   0,   0],\n",
       "        [  0,   0,   0,   0,   0,   0,   0,   0,   0,   0,   0,   0,   0,   0,\n",
       "           0,   0,   0,   0,   0,   0,   0,   0,   0,   0,   0,   0,   0,   0],\n",
       "        [  0,   0,   0,   0,   0,   0,   0,   0,   0,   0,   0,   0,   0,   0,\n",
       "           0,   0,   0,   0,   0,   0,   0,   0,   0,   0,   0,   0,   0,   0]],\n",
       "       dtype=torch.uint8)"
      ]
     },
     "execution_count": 17,
     "metadata": {},
     "output_type": "execute_result"
    }
   ],
   "source": [
    "dataset_train.data[0]"
   ]
  },
  {
   "cell_type": "code",
   "execution_count": 20,
   "id": "25cb2173-3baa-4c6b-b303-efb57fc02622",
   "metadata": {},
   "outputs": [],
   "source": [
    "x_train = dataset_train.data / 255\n",
    "x_test = dataset_test.data / 255\n",
    "\n",
    "x_train = torch.flatten (x_train, start_dim=1)\n",
    "x_test = torch.flatten (x_test, start_dim=1)"
   ]
  },
  {
   "cell_type": "code",
   "execution_count": 22,
   "id": "236ec792-f13c-4d4c-8742-a62783388012",
   "metadata": {},
   "outputs": [
    {
     "data": {
      "text/plain": [
       "(torch.Size([60000, 784]), torch.Size([10000, 784]))"
      ]
     },
     "execution_count": 22,
     "metadata": {},
     "output_type": "execute_result"
    }
   ],
   "source": [
    "x_train.shape, x_test.shape"
   ]
  },
  {
   "cell_type": "code",
   "execution_count": 24,
   "id": "2370bfc1-0ef5-4d14-b644-856324c393ff",
   "metadata": {},
   "outputs": [],
   "source": [
    "W1 = torch.randn ( 784, 100, requires_grad= True)\n",
    "b1 = torch.randn ( 100, requires_grad= True)\n",
    "\n",
    "W2 = torch.randn ( 100, 10, requires_grad= True)\n",
    "b2 = torch.randn ( 10, requires_grad= True)"
   ]
  },
  {
   "cell_type": "code",
   "execution_count": 25,
   "id": "d18cf73d-22a8-403b-9ae9-964eea5ab632",
   "metadata": {},
   "outputs": [],
   "source": [
    "Z1 = torch.matmul ( x_train, W1) + b1\n",
    "A1 = torch.tanh ( Z1 )\n",
    "\n",
    "Z2 = torch.matmul ( A1, W2) + b2\n",
    "A2 = torch.softmax ( Z2, dim=1 )"
   ]
  },
  {
   "cell_type": "code",
   "execution_count": 30,
   "id": "45e1ad6e-f642-4ad0-82d0-42805bb56b46",
   "metadata": {},
   "outputs": [
    {
     "data": {
      "text/plain": [
       "tensor([[1.5653e-13, 1.5113e-01, 5.5280e-01, 7.8825e-12, 1.4358e-11, 2.9502e-01,\n",
       "         3.5693e-07, 3.9283e-07, 1.0589e-03, 2.7772e-17],\n",
       "        [9.9557e-05, 3.5898e-07, 9.9990e-01, 2.0214e-16, 7.3378e-17, 9.5457e-15,\n",
       "         2.3761e-09, 5.2138e-10, 2.6732e-07, 1.7513e-16],\n",
       "        [9.9990e-01, 3.0837e-08, 2.3052e-08, 3.8138e-15, 3.6904e-11, 6.5267e-05,\n",
       "         3.3849e-14, 3.7971e-05, 2.2165e-10, 9.8281e-12],\n",
       "        [6.8219e-04, 3.1382e-03, 9.6178e-01, 3.9626e-05, 1.2072e-08, 7.1440e-03,\n",
       "         1.7239e-02, 9.7058e-03, 2.7414e-04, 4.0208e-09],\n",
       "        [7.1711e-03, 2.2329e-07, 1.7272e-05, 2.2982e-06, 3.5833e-06, 1.7621e-05,\n",
       "         4.9772e-05, 8.2008e-01, 1.7266e-01, 8.9696e-07],\n",
       "        [7.6014e-09, 9.9999e-01, 3.0102e-09, 1.6492e-10, 1.6715e-16, 2.3102e-06,\n",
       "         8.8520e-13, 6.5318e-06, 2.3401e-07, 8.0514e-12],\n",
       "        [4.7047e-07, 3.8391e-06, 4.8813e-03, 3.5187e-05, 1.4429e-11, 5.0825e-01,\n",
       "         4.6366e-06, 4.8683e-01, 4.1849e-07, 4.1267e-10],\n",
       "        [5.8517e-05, 9.9993e-01, 7.7850e-06, 1.2598e-17, 3.0916e-13, 1.5122e-10,\n",
       "         1.4140e-14, 8.3013e-06, 1.4454e-10, 4.3378e-13],\n",
       "        [3.0352e-08, 2.1472e-08, 6.0702e-05, 2.5955e-02, 1.4571e-08, 1.9825e-04,\n",
       "         6.6500e-06, 9.7378e-01, 1.3892e-07, 1.5020e-10],\n",
       "        [3.6116e-04, 4.6666e-02, 9.4230e-01, 1.8846e-04, 6.9475e-09, 6.2601e-03,\n",
       "         3.5527e-07, 4.2199e-03, 4.2877e-11, 1.1639e-13]],\n",
       "       grad_fn=<SliceBackward0>)"
      ]
     },
     "execution_count": 30,
     "metadata": {},
     "output_type": "execute_result"
    }
   ],
   "source": [
    "A2[:10]"
   ]
  },
  {
   "cell_type": "markdown",
   "id": "6e861f2c-b425-4740-aefa-393641491c63",
   "metadata": {},
   "source": [
    "cross entropy"
   ]
  },
  {
   "cell_type": "code",
   "execution_count": 32,
   "id": "03cb9e76-e565-4621-9f12-b4b7645ff383",
   "metadata": {},
   "outputs": [],
   "source": [
    "y_train = dataset_train.targets\n",
    "\n",
    "loss = torch.nn.functional.cross_entropy(Z2, y_train)"
   ]
  },
  {
   "cell_type": "code",
   "execution_count": 33,
   "id": "254fee07-66f9-4787-9cde-c7ea48bc36a1",
   "metadata": {},
   "outputs": [
    {
     "data": {
      "text/plain": [
       "tensor(14.2059, grad_fn=<NllLossBackward0>)"
      ]
     },
     "execution_count": 33,
     "metadata": {},
     "output_type": "execute_result"
    }
   ],
   "source": [
    "loss"
   ]
  },
  {
   "cell_type": "code",
   "execution_count": 34,
   "id": "f5435333-ea02-43bb-b034-2c7d343dfb7d",
   "metadata": {},
   "outputs": [],
   "source": [
    "loss.backward()"
   ]
  },
  {
   "cell_type": "code",
   "execution_count": 38,
   "id": "687852f0-d66c-4975-8fcf-25222a6468bb",
   "metadata": {},
   "outputs": [
    {
     "data": {
      "text/plain": [
       "tensor(2.0503)"
      ]
     },
     "execution_count": 38,
     "metadata": {},
     "output_type": "execute_result"
    }
   ],
   "source": [
    "torch.norm(W1.grad)"
   ]
  },
  {
   "cell_type": "code",
   "execution_count": 47,
   "id": "56e8510b-72c0-448d-be79-20d82de04488",
   "metadata": {},
   "outputs": [
    {
     "name": "stdout",
     "output_type": "stream",
     "text": [
      "Epoch,  0, loss=16.248, accuracy=0.059 \n",
      "Epoch,  1, loss=15.314, accuracy=0.063 \n",
      "Epoch,  2, loss=14.563, accuracy=0.068 \n",
      "Epoch,  3, loss=13.919, accuracy=0.073 \n",
      "Epoch,  4, loss=13.342, accuracy=0.078 \n",
      "Epoch,  5, loss=12.813, accuracy=0.083 \n",
      "Epoch,  6, loss=12.321, accuracy=0.090 \n",
      "Epoch,  7, loss=11.861, accuracy=0.097 \n",
      "Epoch,  8, loss=11.429, accuracy=0.103 \n",
      "Epoch,  9, loss=11.023, accuracy=0.110 \n"
     ]
    }
   ],
   "source": [
    "W1 = torch.randn ( 784, 100, requires_grad= True)\n",
    "b1 = torch.randn ( 100, requires_grad= True)\n",
    "\n",
    "W2 = torch.randn ( 100, 10, requires_grad= True)\n",
    "b2 = torch.randn ( 10, requires_grad= True)\n",
    "\n",
    "nr_epochs = 10\n",
    "alfa = torch.tensor(0.1)\n",
    "\n",
    "for epoch in range(nr_epochs):\n",
    "    #forward propagation\n",
    "    Z1 = torch.matmul ( x_train, W1) + b1\n",
    "    A1 = torch.tanh ( Z1 )\n",
    "\n",
    "    Z2 = torch.matmul ( A1, W2) + b2\n",
    "    A2 = torch.softmax ( Z2, dim=1 )\n",
    "    \n",
    "    loss = torch.nn.functional.cross_entropy(Z2, y_train)\n",
    "    \n",
    "    with torch.no_grad():\n",
    "        acc_train = torch.sum( torch.argmax(A2, dim=1 ) == y_train) /len(y_train)\n",
    "    \n",
    "    print(f\"Epoch, {epoch:2d}, loss={loss.item():.3f}, accuracy={acc_train:.3f} \")\n",
    "    \n",
    "    # backward propagation\n",
    "    loss.backward()\n",
    "    \n",
    "    with torch.no_grad():\n",
    "        W1 -= alfa * W1.grad\n",
    "        W2 -= alfa * W2.grad\n",
    "        b1 -= alfa * b1.grad\n",
    "        b2 -= alfa * b2.grad\n",
    "        \n",
    "    W1.grad.zero_()\n",
    "    W2.grad.zero_()\n",
    "    b1.grad.zero_()\n",
    "    b2.grad.zero_()\n",
    "        "
   ]
  },
  {
   "cell_type": "code",
   "execution_count": null,
   "id": "9085da6b-69b9-4046-9ee3-207cb903a88e",
   "metadata": {},
   "outputs": [],
   "source": []
  }
 ],
 "metadata": {
  "kernelspec": {
   "display_name": "Python 3 (ipykernel)",
   "language": "python",
   "name": "python3"
  },
  "language_info": {
   "codemirror_mode": {
    "name": "ipython",
    "version": 3
   },
   "file_extension": ".py",
   "mimetype": "text/x-python",
   "name": "python",
   "nbconvert_exporter": "python",
   "pygments_lexer": "ipython3",
   "version": "3.9.13"
  }
 },
 "nbformat": 4,
 "nbformat_minor": 5
}
